{
 "cells": [
  {
   "cell_type": "markdown",
   "metadata": {},
   "source": [
    "### Data import"
   ]
  },
  {
   "cell_type": "code",
   "execution_count": 1,
   "metadata": {},
   "outputs": [
    {
     "data": {
      "text/html": [
       "<div>\n",
       "<style scoped>\n",
       "    .dataframe tbody tr th:only-of-type {\n",
       "        vertical-align: middle;\n",
       "    }\n",
       "\n",
       "    .dataframe tbody tr th {\n",
       "        vertical-align: top;\n",
       "    }\n",
       "\n",
       "    .dataframe thead th {\n",
       "        text-align: right;\n",
       "    }\n",
       "</style>\n",
       "<table border=\"1\" class=\"dataframe\">\n",
       "  <thead>\n",
       "    <tr style=\"text-align: right;\">\n",
       "      <th></th>\n",
       "      <th>Unnamed: 0</th>\n",
       "      <th>latitude</th>\n",
       "      <th>longitude</th>\n",
       "      <th>country</th>\n",
       "      <th>region</th>\n",
       "      <th>img_path</th>\n",
       "    </tr>\n",
       "  </thead>\n",
       "  <tbody>\n",
       "    <tr>\n",
       "      <th>0</th>\n",
       "      <td>0</td>\n",
       "      <td>20.824885</td>\n",
       "      <td>-98.499517</td>\n",
       "      <td>Mexico</td>\n",
       "      <td>Hidalgo</td>\n",
       "      <td>0.png</td>\n",
       "    </tr>\n",
       "    <tr>\n",
       "      <th>1</th>\n",
       "      <td>1</td>\n",
       "      <td>-3.451752</td>\n",
       "      <td>-54.563937</td>\n",
       "      <td>Unknown</td>\n",
       "      <td>Unknown</td>\n",
       "      <td>1.png</td>\n",
       "    </tr>\n",
       "    <tr>\n",
       "      <th>2</th>\n",
       "      <td>2</td>\n",
       "      <td>-23.496464</td>\n",
       "      <td>-47.460542</td>\n",
       "      <td>Brazil</td>\n",
       "      <td>São Paulo</td>\n",
       "      <td>2.png</td>\n",
       "    </tr>\n",
       "  </tbody>\n",
       "</table>\n",
       "</div>"
      ],
      "text/plain": [
       "   Unnamed: 0   latitude  longitude  country     region img_path\n",
       "0           0  20.824885 -98.499517   Mexico    Hidalgo    0.png\n",
       "1           1  -3.451752 -54.563937  Unknown    Unknown    1.png\n",
       "2           2 -23.496464 -47.460542   Brazil  São Paulo    2.png"
      ]
     },
     "execution_count": 1,
     "metadata": {},
     "output_type": "execute_result"
    }
   ],
   "source": [
    "import pandas as pd\n",
    "\n",
    "processed_data = pd.read_csv('data/occurences_processed_data.csv')\n",
    "processed_data.head(3)"
   ]
  },
  {
   "cell_type": "code",
   "execution_count": 5,
   "metadata": {},
   "outputs": [
    {
     "name": "stdout",
     "output_type": "stream",
     "text": [
      "Found 7372 validated image filenames.\n",
      "Found 1843 validated image filenames.\n"
     ]
    },
    {
     "name": "stderr",
     "output_type": "stream",
     "text": [
      "/Users/leo-paul/geoguess/geo-env/lib/python3.11/site-packages/keras/src/layers/convolutional/base_conv.py:107: UserWarning: Do not pass an `input_shape`/`input_dim` argument to a layer. When using Sequential models, prefer using an `Input(shape)` object as the first layer in the model instead.\n",
      "  super().__init__(activity_regularizer=activity_regularizer, **kwargs)\n",
      "/Users/leo-paul/geoguess/geo-env/lib/python3.11/site-packages/keras/src/trainers/data_adapters/py_dataset_adapter.py:121: UserWarning: Your `PyDataset` class should call `super().__init__(**kwargs)` in its constructor. `**kwargs` can include `workers`, `use_multiprocessing`, `max_queue_size`. Do not pass these arguments to `fit()`, as they will be ignored.\n",
      "  self._warn_if_super_not_called()\n"
     ]
    },
    {
     "name": "stdout",
     "output_type": "stream",
     "text": [
      "Epoch 1/10\n",
      "\u001b[1m231/231\u001b[0m \u001b[32m━━━━━━━━━━━━━━━━━━━━\u001b[0m\u001b[37m\u001b[0m \u001b[1m110s\u001b[0m 473ms/step - accuracy: 0.2174 - loss: 2.9008 - val_accuracy: 0.3218 - val_loss: 2.4293\n",
      "Epoch 2/10\n",
      "\u001b[1m231/231\u001b[0m \u001b[32m━━━━━━━━━━━━━━━━━━━━\u001b[0m\u001b[37m\u001b[0m \u001b[1m112s\u001b[0m 485ms/step - accuracy: 0.3297 - loss: 2.3544 - val_accuracy: 0.3467 - val_loss: 2.2772\n",
      "Epoch 3/10\n",
      "\u001b[1m231/231\u001b[0m \u001b[32m━━━━━━━━━━━━━━━━━━━━\u001b[0m\u001b[37m\u001b[0m \u001b[1m116s\u001b[0m 500ms/step - accuracy: 0.3929 - loss: 2.0933 - val_accuracy: 0.3836 - val_loss: 2.0990\n",
      "Epoch 4/10\n",
      "\u001b[1m231/231\u001b[0m \u001b[32m━━━━━━━━━━━━━━━━━━━━\u001b[0m\u001b[37m\u001b[0m \u001b[1m114s\u001b[0m 495ms/step - accuracy: 0.4457 - loss: 1.8704 - val_accuracy: 0.4069 - val_loss: 2.0565\n",
      "Epoch 5/10\n",
      "\u001b[1m231/231\u001b[0m \u001b[32m━━━━━━━━━━━━━━━━━━━━\u001b[0m\u001b[37m\u001b[0m \u001b[1m124s\u001b[0m 535ms/step - accuracy: 0.4848 - loss: 1.7026 - val_accuracy: 0.4428 - val_loss: 1.9854\n",
      "Epoch 6/10\n",
      "\u001b[1m231/231\u001b[0m \u001b[32m━━━━━━━━━━━━━━━━━━━━\u001b[0m\u001b[37m\u001b[0m \u001b[1m113s\u001b[0m 489ms/step - accuracy: 0.5669 - loss: 1.4016 - val_accuracy: 0.4650 - val_loss: 1.8982\n",
      "Epoch 7/10\n",
      "\u001b[1m231/231\u001b[0m \u001b[32m━━━━━━━━━━━━━━━━━━━━\u001b[0m\u001b[37m\u001b[0m \u001b[1m115s\u001b[0m 498ms/step - accuracy: 0.6528 - loss: 1.1624 - val_accuracy: 0.4786 - val_loss: 2.0696\n",
      "Epoch 8/10\n",
      "\u001b[1m231/231\u001b[0m \u001b[32m━━━━━━━━━━━━━━━━━━━━\u001b[0m\u001b[37m\u001b[0m \u001b[1m116s\u001b[0m 501ms/step - accuracy: 0.7304 - loss: 0.8776 - val_accuracy: 0.4574 - val_loss: 2.1691\n",
      "Epoch 9/10\n",
      "\u001b[1m231/231\u001b[0m \u001b[32m━━━━━━━━━━━━━━━━━━━━\u001b[0m\u001b[37m\u001b[0m \u001b[1m111s\u001b[0m 482ms/step - accuracy: 0.8016 - loss: 0.6496 - val_accuracy: 0.4487 - val_loss: 2.4926\n",
      "Epoch 10/10\n",
      "\u001b[1m231/231\u001b[0m \u001b[32m━━━━━━━━━━━━━━━━━━━━\u001b[0m\u001b[37m\u001b[0m \u001b[1m121s\u001b[0m 523ms/step - accuracy: 0.8628 - loss: 0.4502 - val_accuracy: 0.4438 - val_loss: 3.0247\n",
      "\u001b[1m58/58\u001b[0m \u001b[32m━━━━━━━━━━━━━━━━━━━━\u001b[0m\u001b[37m\u001b[0m \u001b[1m9s\u001b[0m 151ms/step - accuracy: 0.4474 - loss: 3.0720\n",
      "Test Accuracy: 0.44\n"
     ]
    }
   ],
   "source": [
    "import os\n",
    "import numpy as np\n",
    "import pandas as pd\n",
    "import tensorflow as tf\n",
    "from tensorflow.keras.preprocessing.image import ImageDataGenerator\n",
    "from sklearn.model_selection import train_test_split\n",
    "from sklearn.preprocessing import LabelEncoder\n",
    "from tensorflow.keras import layers, models\n",
    "\n",
    "# Charger le jeu de données\n",
    "file_path = \"data/occurences_processed_data.csv\"\n",
    "data = pd.read_csv(file_path)\n",
    "\n",
    "# Répertoire des images\n",
    "image_dir = \"1/dataset/\"  # Remplacer par le chemin vers le dossier contenant les images\n",
    "\n",
    "# Vérification de l'existence des fichiers d'image\n",
    "data['img_path_full'] = data['img_path'].apply(lambda x: os.path.join(image_dir, x))\n",
    "data = data[data['img_path_full'].apply(os.path.exists)]\n",
    "\n",
    "# Encodage des labels (pays)\n",
    "label_encoder = LabelEncoder()\n",
    "data['country_encoded'] = label_encoder.fit_transform(data['country'])\n",
    "\n",
    "# Split train/test\n",
    "train_data, test_data = train_test_split(data, test_size=0.2, random_state=42)\n",
    "\n",
    "# Préparation des générateurs d'images\n",
    "img_size = (128, 128)\n",
    "batch_size = 32\n",
    "\n",
    "train_datagen = ImageDataGenerator(rescale=1./255)\n",
    "test_datagen = ImageDataGenerator(rescale=1./255)\n",
    "\n",
    "train_generator = train_datagen.flow_from_dataframe(\n",
    "    train_data,\n",
    "    x_col='img_path_full',\n",
    "    y_col='country_encoded',\n",
    "    target_size=img_size,\n",
    "    class_mode='raw',\n",
    "    batch_size=batch_size\n",
    ")\n",
    "\n",
    "test_generator = test_datagen.flow_from_dataframe(\n",
    "    test_data,\n",
    "    x_col='img_path_full',\n",
    "    y_col='country_encoded',\n",
    "    target_size=img_size,\n",
    "    class_mode='raw',\n",
    "    batch_size=batch_size,\n",
    "    shuffle=False\n",
    ")\n",
    "\n",
    "# Modèle CNN\n",
    "model = models.Sequential([\n",
    "    layers.Conv2D(32, (3, 3), activation='relu', input_shape=(128, 128, 3)),\n",
    "    layers.MaxPooling2D((2, 2)),\n",
    "    layers.Conv2D(64, (3, 3), activation='relu'),\n",
    "    layers.MaxPooling2D((2, 2)),\n",
    "    layers.Conv2D(128, (3, 3), activation='relu'),\n",
    "    layers.MaxPooling2D((2, 2)),\n",
    "    layers.Flatten(),\n",
    "    layers.Dense(128, activation='relu'),\n",
    "    layers.Dense(len(label_encoder.classes_), activation='softmax')\n",
    "])\n",
    "\n",
    "model.compile(optimizer='adam',\n",
    "              loss='sparse_categorical_crossentropy',\n",
    "              metrics=['accuracy'])\n",
    "\n",
    "# Entraînement\n",
    "epochs = 10\n",
    "history = model.fit(train_generator, validation_data=test_generator, epochs=epochs)\n",
    "\n",
    "# Évaluation\n",
    "loss, accuracy = model.evaluate(test_generator)\n",
    "print(f\"Test Accuracy: {accuracy:.2f}\")\n"
   ]
  },
  {
   "cell_type": "code",
   "execution_count": 7,
   "metadata": {},
   "outputs": [
    {
     "name": "stderr",
     "output_type": "stream",
     "text": [
      "WARNING:absl:The `save_format` argument is deprecated in Keras 3. We recommend removing this argument as it can be inferred from the file path. Received: save_format=tf\n",
      "WARNING:absl:You are saving your model as an HDF5 file via `model.save()` or `keras.saving.save_model(model)`. This file format is considered legacy. We recommend using instead the native Keras format, e.g. `model.save('my_model.keras')` or `keras.saving.save_model(model, 'my_model.keras')`. \n"
     ]
    }
   ],
   "source": [
    "model.save(\"models/model_1shot.h5\", save_format=\"tf\")"
   ]
  },
  {
   "cell_type": "code",
   "execution_count": 2,
   "metadata": {},
   "outputs": [],
   "source": [
    "import numpy as np\n",
    "import tensorflow as tf\n",
    "from tensorflow.keras.preprocessing import image\n",
    "\n",
    "def load_and_preprocess_image(img_path, img_size=(128, 128)):\n",
    "    \"\"\"Load an image and preprocess it for prediction.\"\"\"\n",
    "    img = image.load_img(img_path, target_size=img_size)\n",
    "    img_array = image.img_to_array(img)\n",
    "    img_array = np.expand_dims(img_array, axis=0)  # Ajouter une dimension batch\n",
    "    img_array /= 255.0  # Normalisation\n",
    "    return img_array\n",
    "\n",
    "def predict_country(img_path, model, label_encoder):\n",
    "    \"\"\"Predict the country from an image using the trained model.\"\"\"\n",
    "    img_array = load_and_preprocess_image(img_path)\n",
    "    prediction = model.predict(img_array)\n",
    "    predicted_class_index = np.argmax(prediction)\n",
    "    predicted_country = label_encoder.inverse_transform([predicted_class_index])[0]\n",
    "    \n",
    "    print(f\"Predicted Country: {predicted_country}\")\n",
    "    return predicted_country\n",
    "\n",
    "# Exemple d'utilisation :\n",
    "# img_path_example = \"1/dataset/260.png\"  # Remplacer par le chemin de l'image de test\n",
    "# predict_country(img_path_example, model, label_encoder)\n"
   ]
  },
  {
   "cell_type": "code",
   "execution_count": 8,
   "metadata": {},
   "outputs": [
    {
     "name": "stderr",
     "output_type": "stream",
     "text": [
      "WARNING:absl:Compiled the loaded model, but the compiled metrics have yet to be built. `model.compile_metrics` will be empty until you train or evaluate the model.\n"
     ]
    },
    {
     "name": "stdout",
     "output_type": "stream",
     "text": [
      "\u001b[1m1/1\u001b[0m \u001b[32m━━━━━━━━━━━━━━━━━━━━\u001b[0m\u001b[37m\u001b[0m \u001b[1m0s\u001b[0m 60ms/step\n",
      "Predicted Country: Australia\n"
     ]
    },
    {
     "data": {
      "text/plain": [
       "'Australia'"
      ]
     },
     "execution_count": 8,
     "metadata": {},
     "output_type": "execute_result"
    }
   ],
   "source": [
    "import os\n",
    "import numpy as np\n",
    "import pandas as pd\n",
    "import tensorflow as tf\n",
    "# from tensorflow.keras.preprocessing.image import ImageDataGenerator\n",
    "# from sklearn.model_selection import train_test_split\n",
    "from sklearn.preprocessing import LabelEncoder\n",
    "# from tensorflow.keras import layers, models\n",
    "from tensorflow.keras.models import load_model\n",
    "\n",
    "\n",
    "file_path = \"data/occurences_processed_data.csv\"\n",
    "data = pd.read_csv(file_path)\n",
    "\n",
    "# Répertoire des images\n",
    "image_dir = \"1/dataset/\"  # Remplacer par le chemin vers le dossier contenant les images\n",
    "\n",
    "# Vérification de l'existence des fichiers d'image\n",
    "data['img_path_full'] = data['img_path'].apply(lambda x: os.path.join(image_dir, x))\n",
    "data = data[data['img_path_full'].apply(os.path.exists)]\n",
    "\n",
    "# Encodage des labels (pays)\n",
    "label_encoder = LabelEncoder()\n",
    "data['country_encoded'] = label_encoder.fit_transform(data['country'])\n",
    "\n",
    "model = load_model(\"models/model_1shot.h5\")\n",
    "\n",
    "predict_country(\"sandbox_data/test_2.png\", model, label_encoder)\n",
    "\n"
   ]
  },
  {
   "cell_type": "code",
   "execution_count": 6,
   "metadata": {},
   "outputs": [
    {
     "data": {
      "text/plain": [
       "array(['Argentina', 'Australia', 'Bolivia', 'Botswana', 'Brazil',\n",
       "       'Bulgaria', 'Cambodia', 'Colombia', 'Finland', 'Ghana', 'India',\n",
       "       'Indonesia', 'Italy', 'Kenya', 'Mali', 'Mexico', 'Mongolia',\n",
       "       'Nigeria', 'Peru', 'Poland', 'Romania', 'Russia', 'Senegal',\n",
       "       'South Africa', 'Spain', 'Sweden', 'Thailand', 'Türkiye',\n",
       "       'Ukraine', 'Unknown', 'Uruguay'], dtype=object)"
      ]
     },
     "execution_count": 6,
     "metadata": {},
     "output_type": "execute_result"
    }
   ],
   "source": [
    "label_encoder.classes_"
   ]
  }
 ],
 "metadata": {
  "kernelspec": {
   "display_name": "geo-env",
   "language": "python",
   "name": "python3"
  },
  "language_info": {
   "codemirror_mode": {
    "name": "ipython",
    "version": 3
   },
   "file_extension": ".py",
   "mimetype": "text/x-python",
   "name": "python",
   "nbconvert_exporter": "python",
   "pygments_lexer": "ipython3",
   "version": "3.11.7"
  },
  "orig_nbformat": 4
 },
 "nbformat": 4,
 "nbformat_minor": 2
}
